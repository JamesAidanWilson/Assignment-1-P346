{
 "cells": [
  {
   "cell_type": "code",
   "execution_count": 3,
   "source": [
    "# Sum on first N natural numbers\r\n",
    "\r\n",
    "#By definition of a function method\r\n",
    "\r\n",
    "def sumN(x):\r\n",
    "    #Using manual counter\r\n",
    "    p = 0 # p is the dummy variable\r\n",
    "    i = 0 # i is the counter\r\n",
    "    while i <= x:\r\n",
    "        p = p + i\r\n",
    "        i = i + 1\r\n",
    "    print(\"The sum of the first \" + str(x) + \" numbers is \" + str(p))\r\n",
    "\r\n",
    "sumN(75)\r\n",
    "sumN(8)\r\n",
    "sumN(100)\r\n",
    "sumN(53)\r\n",
    "sumN(20)"
   ],
   "outputs": [
    {
     "output_type": "stream",
     "name": "stdout",
     "text": [
      "The sum of the first 75 numbers is 2850\n",
      "The sum of the first 8 numbers is 36\n",
      "The sum of the first 100 numbers is 5050\n",
      "The sum of the first 53 numbers is 1431\n"
     ]
    }
   ],
   "metadata": {}
  },
  {
   "cell_type": "code",
   "execution_count": 4,
   "source": [
    "# Sum of first N odd natural numbers\r\n",
    "\r\n",
    "def OdsumN(x):\r\n",
    "    a = 1 # a is the counter\r\n",
    "    r = 0 \r\n",
    "    while a < 2*x:\r\n",
    "        r = r + a\r\n",
    "        a += 2\r\n",
    "    print(\"The sum of the first \" + str(x) + \"odd numbers is \" + str(r))\r\n",
    "\r\n",
    "OdsumN(45)\r\n",
    "OdsumN(7)\r\n",
    "OdsumN(80)\r\n",
    "OdsumN(67)\r\n",
    "OdsumN(100)"
   ],
   "outputs": [
    {
     "output_type": "stream",
     "name": "stdout",
     "text": [
      "The sum of the first 45odd numbers is 2025\n",
      "The sum of the first 7odd numbers is 49\n",
      "The sum of the first 80odd numbers is 6400\n",
      "The sum of the first 67odd numbers is 4489\n"
     ]
    }
   ],
   "metadata": {}
  }
 ],
 "metadata": {
  "orig_nbformat": 4,
  "language_info": {
   "name": "python",
   "version": "3.7.4",
   "mimetype": "text/x-python",
   "codemirror_mode": {
    "name": "ipython",
    "version": 3
   },
   "pygments_lexer": "ipython3",
   "nbconvert_exporter": "python",
   "file_extension": ".py"
  },
  "kernelspec": {
   "name": "python3",
   "display_name": "Python 3.7.4 32-bit"
  },
  "interpreter": {
   "hash": "a10fe58052d53de2f628fe753df202ab061ed00aa63930584c0feb86b9c4bc70"
  }
 },
 "nbformat": 4,
 "nbformat_minor": 2
}