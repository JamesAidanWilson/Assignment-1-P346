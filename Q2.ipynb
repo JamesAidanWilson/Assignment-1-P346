{
 "cells": [
  {
   "cell_type": "code",
   "execution_count": 1,
   "source": [
    "# Sum of first N terms of an AP\r\n",
    "\r\n",
    "# By interactive method\r\n",
    "\r\n",
    "a = float(input(\"First Term of AP = \"))\r\n",
    "d = float(input(\"Common Difference = \"))\r\n",
    "n = int(input(\"Number of terms in sum = \"))\r\n",
    "\r\n",
    "c = 0 # c is the counter\r\n",
    "r = 0\r\n",
    "while c < n:\r\n",
    "    r = r + a + c*d\r\n",
    "    c += 1\r\n",
    "print(r)"
   ],
   "outputs": [
    {
     "output_type": "stream",
     "name": "stdout",
     "text": [
      "351\n"
     ]
    }
   ],
   "metadata": {}
  },
  {
   "cell_type": "code",
   "execution_count": 2,
   "source": [
    "# Sum of first N terms of a GP\r\n",
    "\r\n",
    "# By interactive method\r\n",
    "\r\n",
    "p = int(input(\"Initial Term of GP = \"))\r\n",
    "k = int(input(\"Common ratio = \"))\r\n",
    "l = int(input(\"No of terms = \"))\r\n",
    "\r\n",
    "v = 0 # v is the counter\r\n",
    "j = 0 \r\n",
    "while v < l:\r\n",
    "    j = j + p*(k**v)\r\n",
    "    v += 1\r\n",
    "print(j)"
   ],
   "outputs": [
    {
     "output_type": "stream",
     "name": "stdout",
     "text": [
      "6\n"
     ]
    }
   ],
   "metadata": {}
  },
  {
   "cell_type": "code",
   "execution_count": 4,
   "source": [
    "# Sum of first N terms of an HP\r\n",
    "\r\n",
    "u = float(input(\"Denominator of First Term of HP = \"))\r\n",
    "o = float(input(\"Common Difference = \"))\r\n",
    "t = int(input(\"No of terms = \"))\r\n",
    "\r\n",
    "g = 0 # g holds the definition of HP\r\n",
    "m = 0 # m is the counter\r\n",
    "y = 0 # y is the dummy\r\n",
    "while m < t:\r\n",
    "    if u != 0:\r\n",
    "        g = 1/(u + o*m)\r\n",
    "        y = y + g\r\n",
    "        m += 1\r\n",
    "    else:\r\n",
    "        print(\"Problem faced.\")\r\n",
    "        break\r\n",
    "\r\n",
    "print(y)"
   ],
   "outputs": [
    {
     "output_type": "stream",
     "name": "stdout",
     "text": [
      "5.0\n"
     ]
    }
   ],
   "metadata": {}
  }
 ],
 "metadata": {
  "orig_nbformat": 4,
  "language_info": {
   "name": "python",
   "version": "3.7.4",
   "mimetype": "text/x-python",
   "codemirror_mode": {
    "name": "ipython",
    "version": 3
   },
   "pygments_lexer": "ipython3",
   "nbconvert_exporter": "python",
   "file_extension": ".py"
  },
  "kernelspec": {
   "name": "python3",
   "display_name": "Python 3.7.4 32-bit"
  },
  "interpreter": {
   "hash": "a10fe58052d53de2f628fe753df202ab061ed00aa63930584c0feb86b9c4bc70"
  }
 },
 "nbformat": 4,
 "nbformat_minor": 2
}