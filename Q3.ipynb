{
 "cells": [
  {
   "cell_type": "code",
   "execution_count": 1,
   "source": [
    "# Generating a factorial function\r\n",
    "\r\n",
    "# By method of defining a function\r\n",
    "def fact(x):\r\n",
    "    p = 1\r\n",
    "    for i in range(1,x+1): # using Python's range function as in-built counter\r\n",
    "        p = p*i\r\n",
    "    return p\r\n",
    "\r\n",
    "print(fact(30))\r\n",
    "print(fact(23))\r\n",
    "print(fact(7))\r\n",
    "print(fact(14))\r\n",
    "print(fact(44))"
   ],
   "outputs": [
    {
     "output_type": "stream",
     "name": "stdout",
     "text": [
      "265252859812191058636308480000000\n",
      "25852016738884976640000\n",
      "5040\n",
      "87178291200\n",
      "2658271574788448768043625811014615890319638528000000000\n"
     ]
    }
   ],
   "metadata": {}
  }
 ],
 "metadata": {
  "orig_nbformat": 4,
  "language_info": {
   "name": "python",
   "version": "3.7.4",
   "mimetype": "text/x-python",
   "codemirror_mode": {
    "name": "ipython",
    "version": 3
   },
   "pygments_lexer": "ipython3",
   "nbconvert_exporter": "python",
   "file_extension": ".py"
  },
  "kernelspec": {
   "name": "python3",
   "display_name": "Python 3.7.4 32-bit"
  },
  "interpreter": {
   "hash": "a10fe58052d53de2f628fe753df202ab061ed00aa63930584c0feb86b9c4bc70"
  }
 },
 "nbformat": 4,
 "nbformat_minor": 2
}